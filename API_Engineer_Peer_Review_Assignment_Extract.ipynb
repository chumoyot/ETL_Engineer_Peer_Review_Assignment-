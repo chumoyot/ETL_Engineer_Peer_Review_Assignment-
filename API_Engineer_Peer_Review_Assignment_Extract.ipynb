{
 "cells": [
  {
   "cell_type": "markdown",
   "metadata": {},
   "source": [
    "<p style=\"text-align:center\">\n",
    "    <a href=\"https://skills.network/?utm_medium=Exinfluencer&utm_source=Exinfluencer&utm_content=000026UJ&utm_term=10006555&utm_id=NA-SkillsNetwork-Channel-SkillsNetworkCoursesIBMDeveloperSkillsNetworkPY0221ENSkillsNetwork899-2023-01-01\">\n",
    "    <img src=\"https://cf-courses-data.s3.us.cloud-object-storage.appdomain.cloud/assets/logos/SN_web_lightmode.png\" width=\"200\" alt=\"Skills Network Logo\"  />\n",
    "    </a>\n",
    "</p>\n"
   ]
  },
  {
   "cell_type": "markdown",
   "metadata": {},
   "source": [
    "# Peer Review Assignment - Data Engineer - Extract API Data\n"
   ]
  },
  {
   "cell_type": "markdown",
   "metadata": {},
   "source": [
    "Estimated time needed: **20** minutes\n"
   ]
  },
  {
   "cell_type": "markdown",
   "metadata": {},
   "source": [
    "## Objectives\n",
    "\n",
    "In this part you will:\n",
    "\n",
    "-   Collect exchange rate data using an API\n",
    "-   Store the data as a CSV\n"
   ]
  },
  {
   "cell_type": "markdown",
   "metadata": {},
   "source": [
    "For this lab, we are going to be using Python and several Python libraries. Some of these libraries might be installed in your lab environment or in SN Labs. Others may need to be installed by you. The cells below will install these libraries when executed.\n"
   ]
  },
  {
   "cell_type": "code",
   "execution_count": 1,
   "metadata": {
    "tags": []
   },
   "outputs": [],
   "source": [
    "#!mamba install pandas==1.3.3 -y\n",
    "#!mamba install requests==2.26.0 -y"
   ]
  },
  {
   "cell_type": "markdown",
   "metadata": {},
   "source": [
    "## Imports\n",
    "\n",
    "Import any additional libraries you may need here.\n"
   ]
  },
  {
   "cell_type": "code",
   "execution_count": 7,
   "metadata": {
    "tags": []
   },
   "outputs": [],
   "source": [
    "import requests\n",
    "import pandas as pd"
   ]
  },
  {
   "cell_type": "markdown",
   "metadata": {},
   "source": [
    "## Extract Data Using an API\n"
   ]
  },
  {
   "cell_type": "markdown",
   "metadata": {},
   "source": [
    "Using ExchangeRate-API we will extract currency exchange rate data. Use the below steps to get the access key and to get the data. \n",
    "1. Open the url : https://exchangeratesapi.io/ and click on **Get Free API Key**. \n",
    "2. Subscribe for Free plan and Sign-in with the Google Account. \n",
    "3. Once the account is created you will be redirected to https://apilayer.com website.\n",
    "2. Now, click on the **user icon** and click **Account** as shown below:\n",
    "\n",
    "<img src=\"https://cf-courses-data.s3.us.cloud-object-storage.appdomain.cloud/IBMDeveloperSkillsNetwork-PY0221EN-SkillsNetwork/labs/module%206/Final%20Assignment/Images/account.png\">\n",
    "\n",
    "3. Scroll down and you will get the API Key section. Copy the API key and use in the url in Question 1.\n"
   ]
  },
  {
   "cell_type": "markdown",
   "metadata": {},
   "source": [
    "### Call the API\n",
    "\n",
    " <b> Question 1</b> Using the `requests` library call the endpoint given above and save the text, remember the first few characters of the output: \n"
   ]
  },
  {
   "cell_type": "code",
   "execution_count": 3,
   "metadata": {
    "tags": []
   },
   "outputs": [],
   "source": [
    "# Write your code here\n",
    "url = \"http://api.exchangeratesapi.io/v1/latest?base=EUR&access_key=ca46a45ddd7d90c5ff4f1bed9ffc5c8b\"  #Make sure to change ******* to your API key.\n"
   ]
  },
  {
   "cell_type": "markdown",
   "metadata": {},
   "source": [
    "### Save as DataFrame\n",
    "\n",
    " <b> Question 2</b>  Using the data gathered turn it into a `pandas` dataframe. The dataframe should have the Currency as the index and `Rate` as their columns. Make sure to drop unnecessary columns.\n"
   ]
  },
  {
   "cell_type": "code",
   "execution_count": 24,
   "metadata": {
    "tags": []
   },
   "outputs": [
    {
     "name": "stdout",
     "output_type": "stream",
     "text": [
      "{\"success\":true,\"timestamp\":1688809383,\"base\":\"EUR\",\"date\":\"2023-07-08\",\"rates\":{\"AED\":4.030825,\"AFN\":93.894244,\"ALL\":104.421357,\"AMD\":421.184466,\"ANG\":1.962562,\"AOA\":908.143385,\"ARS\":286.184998,\"AUD\":1.640677,\"AWG\":1.977603,\"AZN\":1.87002,\"BAM\":1.955264,\"BBD\":2.198697,\"BDT\":118.29755,\"BGN\":1.955919,\"BHD\":0.410487,\"BIF\":3079.455285,\"BMD\":1.097449,\"BND\":1.471696,\"BOB\":7.524936,\"BRL\":5.343037,\"BSD\":1.089001,\"BTC\":3.6260876e-5,\"BTN\":90.124278,\"BWP\":14.775947,\"BYN\":2.748646,\"BYR\":21509.999664,\"BZD\":2.194998,\"CAD\":1.458894,\"CDF\":2668.996274,\"CHF\":0.975339,\"CLF\":0.031676,\"CLP\":874.040245,\"CNY\":7.924903,\"COP\":4605.13678,\"CRC\":591.537737,\"CUC\":1.097449,\"CUP\":29.082398,\"CVE\":110.239761,\"CZK\":23.852399,\"DJF\":193.886816,\"DKK\":7.453658,\"DOP\":60.713346,\"DZD\":148.859167,\"EGP\":33.64857,\"ERN\":16.461734,\"ETB\":59.919664,\"EUR\":1,\"FJD\":2.422733,\"FKP\":0.854931,\"GBP\":0.854811,\"GEL\":2.847924,\"GGP\":0.854931,\"GHS\":12.386602,\"GIP\":0.854931,\"GMD\":65.463258,\"GNF\":9363.431548,\"GTQ\":8.540657,\"GYD\":229.766973,\"HKD\":8.591325,\"HNL\":26.809646,\"HRK\":7.655927,\"HTG\":150.338761,\"HUF\":384.879558,\"IDR\":16639.191934,\"ILS\":4.058041,\"IMP\":0.854931,\"INR\":90.666299,\"IQD\":1426.508699,\"IRR\":46394.655274,\"ISK\":147.201253,\"JEP\":0.854931,\"JMD\":168.553765,\"JOD\":0.778535,\"JPY\":155.964003,\"KES\":151.578421,\"KGS\":96.290594,\"KHR\":4496.766507,\"KMF\":492.809878,\"KPW\":987.70711,\"KRW\":1425.21349,\"KWD\":0.336797,\"KYD\":0.907451,\"KZT\":485.376858,\"LAK\":20877.273225,\"LBP\":16345.116426,\"LKR\":339.7668,\"LRD\":200.508068,\"LSL\":20.687332,\"LTL\":3.240482,\"LVL\":0.663836,\"LYD\":5.243562,\"MAD\":10.670973,\"MDL\":19.944529,\"MGA\":4963.638441,\"MKD\":61.593105,\"MMK\":2286.772723,\"MNT\":3777.997213,\"MOP\":8.780192,\"MRO\":391.789091,\"MUR\":49.856324,\"MVR\":16.890155,\"MWK\":1147.185319,\"MXN\":18.818071,\"MYR\":5.125501,\"MZN\":69.414061,\"NAD\":20.687327,\"NGN\":844.491067,\"NIO\":39.829075,\"NOK\":11.654305,\"NPR\":144.198445,\"NZD\":1.766802,\"OMR\":0.422194,\"PAB\":1.088901,\"PEN\":3.960314,\"PGK\":3.942918,\"PHP\":60.943578,\"PKR\":298.917205,\"PLN\":4.453386,\"PYG\":7942.821231,\"QAR\":3.995854,\"RON\":4.949719,\"RSD\":117.321346,\"RUB\":100.153602,\"RWF\":1267.452329,\"SAR\":4.116508,\"SBD\":9.145408,\"SCR\":14.401865,\"SDG\":659.022139,\"SEK\":11.87566,\"SGD\":1.481451,\"SHP\":1.335321,\"SLE\":21.71243,\"SLL\":21674.61738,\"SOS\":623.903757,\"SRD\":41.2681,\"STD\":22714.977782,\"SVC\":9.528386,\"SYP\":2757.378026,\"SZL\":20.806293,\"THB\":38.566593,\"TJS\":11.918531,\"TMT\":3.852046,\"TND\":3.38728,\"TOP\":2.585813,\"TRY\":28.599744,\"TTD\":7.388973,\"TWD\":34.326342,\"TZS\":2662.469667,\"UAH\":40.218268,\"UGX\":4023.896219,\"USD\":1.097449,\"UYU\":41.278677,\"UZS\":12599.543861,\"VEF\":3101818.671364,\"VES\":31.02428,\"VND\":25954.667962,\"VUV\":131.114356,\"WST\":2.99981,\"XAF\":655.777116,\"XAG\":0.047524,\"XAU\":0.00057,\"XCD\":2.965911,\"XDR\":0.816576,\"XOF\":655.777116,\"XPF\":119.896698,\"YER\":274.746747,\"ZAR\":20.930075,\"ZMK\":9878.361539,\"ZMW\":19.573631,\"ZWL\":353.378118}}\n"
     ]
    }
   ],
   "source": [
    "# Turn the data into a dataframe\n",
    "data = requests.get(url)\n",
    "data2 = data.json()\n",
    "df = pd.DataFrame(data2)\n",
    "del df['success']\n",
    "print(data.text)"
   ]
  },
  {
   "cell_type": "code",
   "execution_count": null,
   "metadata": {},
   "outputs": [],
   "source": [
    "# Drop unnescessary columns\n"
   ]
  },
  {
   "cell_type": "markdown",
   "metadata": {},
   "source": [
    "### Load the Data\n",
    "\n",
    "Using the dataframe save it as a CSV names `exchange_rates_1.csv`.\n"
   ]
  },
  {
   "cell_type": "code",
   "execution_count": 21,
   "metadata": {
    "tags": []
   },
   "outputs": [],
   "source": [
    "# Save the Dataframe\n",
    "\n",
    "df.to_csv('exchange_rates_2.csv', encoding = 'utf-8')"
   ]
  },
  {
   "cell_type": "markdown",
   "metadata": {},
   "source": [
    "Your CSV should be in this format with more currencies\n",
    "\n",
    "| | Rates |\n",
    "| ------- | ------- |\n",
    "|  AED| 4.398618    |\n",
    "|  AFN| 92.917693   |  \n",
    "|  ALL| 123.099093  |\n",
    "|  AMD| 621.935674  |\n",
    "|  ANG| 2.149648    | \n"
   ]
  },
  {
   "cell_type": "markdown",
   "metadata": {},
   "source": [
    "## Authors\n"
   ]
  },
  {
   "cell_type": "markdown",
   "metadata": {},
   "source": [
    "Ramesh Sannareddy, Joseph Santarcangelo and Azim Hirjani\n"
   ]
  },
  {
   "cell_type": "markdown",
   "metadata": {},
   "source": [
    "### Other Contributors\n"
   ]
  },
  {
   "cell_type": "markdown",
   "metadata": {},
   "source": [
    "Rav Ahuja\n"
   ]
  },
  {
   "cell_type": "markdown",
   "metadata": {},
   "source": [
    "## Change Log\n"
   ]
  },
  {
   "cell_type": "markdown",
   "metadata": {},
   "source": [
    "| Date (YYYY-MM-DD) | Version | Changed By        | Change Description                 |\n",
    "| ----------------- | ------- | ----------------- | ---------------------------------- |\n",
    "| 2022-05-06        | 0.3     | Malika            | Updated instructions to get the API and the url|\n",
    "| 2021-04-15        | 0.2     | Malika            | Updated the lab from USD to EUR    |\n",
    "| 2020-11-25        | 0.1     | Ramesh Sannareddy | Created initial version of the lab |\n"
   ]
  },
  {
   "cell_type": "markdown",
   "metadata": {},
   "source": [
    " Copyright © 2020 IBM Corporation. This notebook and its source code are released under the terms of the [MIT License](https://cognitiveclass.ai/mit-license?utm_medium=Exinfluencer&utm_source=Exinfluencer&utm_content=000026UJ&utm_term=10006555&utm_id=NA-SkillsNetwork-Channel-SkillsNetworkCoursesIBMDeveloperSkillsNetworkPY0221ENSkillsNetwork899-2023-01-01&cm_mmc=Email_Newsletter-_-Developer_Ed%2BTech-_-WW_WW-_-SkillsNetwork-Courses-IBM-DA0321EN-SkillsNetwork-21426264&cm_mmca1=000026UJ&cm_mmca2=10006555&cm_mmca3=M12345678&cvosrc=email.Newsletter.M12345678&cvo_campaign=000026UJ).\n"
   ]
  }
 ],
 "metadata": {
  "kernelspec": {
   "display_name": "Python",
   "language": "python",
   "name": "conda-env-python-py"
  },
  "language_info": {
   "codemirror_mode": {
    "name": "ipython",
    "version": 3
   },
   "file_extension": ".py",
   "mimetype": "text/x-python",
   "name": "python",
   "nbconvert_exporter": "python",
   "pygments_lexer": "ipython3",
   "version": "3.7.12"
  }
 },
 "nbformat": 4,
 "nbformat_minor": 4
}
